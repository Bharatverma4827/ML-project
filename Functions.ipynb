{
 "cells": [
  {
   "cell_type": "code",
   "execution_count": 1,
   "metadata": {},
   "outputs": [
    {
     "name": "stdout",
     "output_type": "stream",
     "text": [
      "Good day\n"
     ]
    }
   ],
   "source": [
    "def greet():\n",
    "    print(\"Good day\")\n",
    "\n",
    "greet()\n"
   ]
  },
  {
   "cell_type": "markdown",
   "metadata": {},
   "source": [
    "function with arguments \n"
   ]
  },
  {
   "cell_type": "code",
   "execution_count": 2,
   "metadata": {},
   "outputs": [
    {
     "name": "stdout",
     "output_type": "stream",
     "text": [
      "Good Day,Harry\n",
      "Thank you\n",
      "Good Day,Rohan\n",
      "Thank you\n",
      "Good Day,Divya\n",
      "Thanks\n"
     ]
    }
   ],
   "source": [
    "def goodDay(name, ending):\n",
    "    print(\"Good Day,\"+ name)\n",
    "    print(ending)\n",
    "\n",
    "goodDay(\"Harry\",\"Thank you\")\n",
    "goodDay(\"Rohan\",\"Thank you\")\n",
    "goodDay(\"Divya\",\"Thanks\")"
   ]
  },
  {
   "cell_type": "markdown",
   "metadata": {},
   "source": [
    "Default arguments"
   ]
  },
  {
   "cell_type": "code",
   "execution_count": 1,
   "metadata": {},
   "outputs": [
    {
     "name": "stdout",
     "output_type": "stream",
     "text": [
      "Good Day,Harry\n",
      "Thanks\n",
      "Good Day,Rohan\n",
      "Thank you\n"
     ]
    }
   ],
   "source": [
    " def goodDay(name, ending=\"Thank you\"):\n",
    "    print(f\"Good Day,{name}\")\n",
    "    print(ending)\n",
    "\n",
    "goodDay(\"Harry\",\"Thanks\")\n",
    "goodDay(\"Rohan\")"
   ]
  },
  {
   "cell_type": "markdown",
   "metadata": {},
   "source": [
    "Recursion\n"
   ]
  },
  {
   "cell_type": "code",
   "execution_count": 5,
   "metadata": {},
   "outputs": [
    {
     "name": "stdout",
     "output_type": "stream",
     "text": [
      "The factorial of this number is:120\n"
     ]
    }
   ],
   "source": [
    "def factorial(n):\n",
    "    if(n==0 or n==1):\n",
    "        return 1\n",
    "\n",
    "    return n * factorial(n-1)\n",
    "\n",
    "n = int(input(\"Enter a number: \"))\n",
    "print(f\"The factorial of this number is:{factorial(n)}\")\n"
   ]
  },
  {
   "cell_type": "markdown",
   "metadata": {},
   "source": [
    "PROBLEMS"
   ]
  },
  {
   "cell_type": "code",
   "execution_count": 3,
   "metadata": {},
   "outputs": [
    {
     "name": "stdout",
     "output_type": "stream",
     "text": [
      "b is greater\n",
      "None\n"
     ]
    }
   ],
   "source": [
    "def greater ( a,b,c):\n",
    "    if(a>b):\n",
    "        if(a>c):\n",
    "            print(\"A is greater\")\n",
    "        else:\n",
    "            print(\"C is greater\")\n",
    "    else:\n",
    "        if(b>c):\n",
    "            print(\"b is greater\")\n",
    "        else:\n",
    "            print(\"C is greater\")\n",
    "    \n",
    "\n",
    "print(greater(10,50,20))             "
   ]
  },
  {
   "cell_type": "code",
   "execution_count": 70,
   "metadata": {},
   "outputs": [
    {
     "name": "stdout",
     "output_type": "stream",
     "text": [
      "temperature in celcius:37.77777777777778\n"
     ]
    }
   ],
   "source": [
    "def convert(f):\n",
    "    c= 5*(f-32)/9\n",
    "    return c\n",
    "\n",
    "n = int(input(\"Enter a no.\"))\n",
    "\n",
    "print(f\"temperature in celcius:{convert(n)}\")\n",
    "\n",
    "\n",
    "\n"
   ]
  },
  {
   "cell_type": "code",
   "execution_count": 69,
   "metadata": {},
   "outputs": [
    {
     "name": "stdout",
     "output_type": "stream",
     "text": [
      "krishna\n",
      "balram\n",
      "mukundaMadhav\n"
     ]
    }
   ],
   "source": [
    "print(\"krishna\")\n",
    "print(\"balram\")\n",
    "print(\"mukunda\",end=\"\")\n",
    "print(\"Madhav\")"
   ]
  },
  {
   "cell_type": "code",
   "execution_count": 35,
   "metadata": {},
   "outputs": [
    {
     "name": "stdout",
     "output_type": "stream",
     "text": [
      "sum of the first natural no:15\n"
     ]
    }
   ],
   "source": [
    "def sum(n):\n",
    "    if (n==1):\n",
    "        return 1\n",
    " \n",
    "    return sum(n-1) + n\n",
    "\n",
    "n = int(input(\"Enter a no.\"))\n",
    "print(f\"sum of the first natural no:{sum(n)}\")\n"
   ]
  },
  {
   "cell_type": "code",
   "execution_count": 49,
   "metadata": {},
   "outputs": [
    {
     "name": "stdout",
     "output_type": "stream",
     "text": [
      "Measurenment in cms:215.9\n"
     ]
    }
   ],
   "source": [
    "def convert(inch):\n",
    "    cms = inch*2.54\n",
    "    return cms\n",
    "\n",
    "n = int(input(\"enter a measurement in inc\"))\n",
    "\n",
    "print(f\"Measurenment in cms:{convert(n)}\")\n"
   ]
  },
  {
   "cell_type": "code",
   "execution_count": 72,
   "metadata": {},
   "outputs": [
    {
     "name": "stdout",
     "output_type": "stream",
     "text": [
      "254.0\n"
     ]
    }
   ],
   "source": [
    "def convert(inch):\n",
    "    cms = inch*2.54\n",
    "    print (cms)\n",
    "\n",
    "convert(100)\n",
    "\n"
   ]
  },
  {
   "cell_type": "code",
   "execution_count": 4,
   "metadata": {},
   "outputs": [],
   "source": [
    "import random\n",
    "\n",
    "def determine_winner(player_choice, computer_choice):\n",
    "    if player_choice == computer_choice:\n",
    "        return \"It's a draw!\"\n",
    "    elif (player_choice == 'snake' and computer_choice == 'water') or \\\n",
    "         (player_choice == 'water' and computer_choice == 'gun') or \\\n",
    "         (player_choice == 'gun' and computer_choice == 'snake'):\n",
    "        return \"You win!\"\n",
    "    else:\n",
    "        return \"Computer wins!\"\n",
    "\n",
    "def main():\n",
    "    choices = ['snake', 'water', 'gun']\n",
    "    print(\"Welcome to the Snake-Water-Gun game!\")\n",
    "    player_choice = input(\"Enter your choice (snake, water, gun): \").lower()\n",
    "    \n",
    "    if player_choice not in choices:\n",
    "        print(\"Invalid choice. Please choose snake, water, or gun.\")\n",
    "        return\n",
    "    \n",
    "    computer_choice = random.choice(choices)\n",
    "    print(f\"Computer chose: {computer_choice}\")\n",
    "    \n",
    "    result = determine_winner(player_choice, computer_choice)\n",
    "    print(result)\n",
    "\n",
    "\n",
    "if __name__ == \"__main__\":\n",
    "    main()"
   ]
  },
  {
   "cell_type": "code",
   "execution_count": 9,
   "metadata": {},
   "outputs": [
    {
     "name": "stdout",
     "output_type": "stream",
     "text": [
      "You chose Gun\n",
      "Computer chose snake\n",
      "You win!\n"
     ]
    }
   ],
   "source": [
    "import random\n",
    "\n",
    "\n",
    "\n",
    "\n",
    "\n",
    "computer = random.choice([-1,0,1])\n",
    "youstr = input(\"Enter your choice : \")\n",
    "youDict = {\"s\": 1, \"w\":-1 ,\"g\":0}\n",
    "reverseDict ={1:\"snake\",-1:\"water\",0:\"Gun\"}\n",
    "\n",
    "you = youDict[youstr]\n",
    "\n",
    "\n",
    "\n",
    "print(f\"You chose {reverseDict[you]}\\nComputer chose {reverseDict[computer]}\")\n",
    "\n",
    "\n",
    "if(computer == you):\n",
    "    print(\"Its a draw\")\n",
    "\n",
    "else:\n",
    "    if(computer == -1 and you == 1):\n",
    "        print(\"You win!\")\n",
    "\n",
    "    elif(computer == -1 and you == 0):\n",
    "        print(\"You lose!\")\n",
    "\n",
    "    elif(computer == 1 and you  == -1):\n",
    "        print(\"You lose!\")\n",
    "\n",
    "    elif(computer == 1 and you == 0):\n",
    "        print(\"You win!\")\n",
    "\n",
    "    elif(computer ==0 and you == -1):\n",
    "        print(\"You win!\")\n",
    "\n",
    "    elif(computer == 0 and you == 1):\n",
    "        print(\"You lose!\")\n",
    "\n",
    "    else:\n",
    "        print(\"Something went wrong!\")\n",
    "\n",
    "\n",
    "\n",
    "\n",
    "\n"
   ]
  }
 ],
 "metadata": {
  "kernelspec": {
   "display_name": "Python 3",
   "language": "python",
   "name": "python3"
  },
  "language_info": {
   "codemirror_mode": {
    "name": "ipython",
    "version": 3
   },
   "file_extension": ".py",
   "mimetype": "text/x-python",
   "name": "python",
   "nbconvert_exporter": "python",
   "pygments_lexer": "ipython3",
   "version": "3.12.4"
  }
 },
 "nbformat": 4,
 "nbformat_minor": 2
}
